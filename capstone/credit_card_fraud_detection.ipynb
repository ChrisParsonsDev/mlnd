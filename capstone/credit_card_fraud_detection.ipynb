{
 "cells": [
  {
   "cell_type": "markdown",
   "metadata": {},
   "source": [
    "# Machine Learning Engineer Nanodegree\n",
    "\n",
    "## Project Capstone\n",
    "\n",
    "## Credit Card Fraud Detection\n",
    "\n",
    "\n",
    "Welcome to the final project of my Machine Learning Engineer Nanodegree! In this notebook, I'll explore whether or not a system can be trained to detect instances of financial fraud from a labeled dataset of credit card transactions. As such this is project is an example of Supervised Learning. To thorougly examine credit card fraud detection systems I will explore the effecitveness of the following techniques: \n",
    "\n",
    "\n",
    "1. **Benchmark Model** - The benchmark model will be a [Logistic Regression Classifier](http://scikit-learn.org/stable/modules/generated/sklearn.linear_model.LogisticRegression.html). This model will be implemented using the tooling in SKLearn and be used to compare all other models developed as part of this project.\n",
    "2. **Complex Model** - I will then explore how using models like SVM or [xgboost](https://github.com/dmlc/xgboost) perform when applied to this binary classification problem.\n",
    "3. **Neural Network** - In order to examine the effectiveness of complex solutions on this non-image domain I will develop a Neural Network architecture that is capable of classifying the instances of fraud. Subsequent analysis of the accuracy of the Neural Network architecture will allow direct comparison between complex and simple techniques in this problem space.\n",
    "4. **Transfer Learning** - Finally, to compare the accuracy that can be obtained between different NN architectures I will then use Transfer Learning to teach a pre-trained model to recognise fraud based on the input dataset from this project.\n",
    "\n",
    "\n",
    "More information can be found in the project's [proposal.md](https://github.com/ChrisParsonsDev/mlnd/blob/master/capstone/PROPOSAL.md) \n"
   ]
  },
  {
   "cell_type": "code",
   "execution_count": null,
   "metadata": {
    "collapsed": true
   },
   "outputs": [],
   "source": []
  }
 ],
 "metadata": {
  "kernelspec": {
   "display_name": "Python 2",
   "language": "python",
   "name": "python2"
  },
  "language_info": {
   "codemirror_mode": {
    "name": "ipython",
    "version": 2
   },
   "file_extension": ".py",
   "mimetype": "text/x-python",
   "name": "python",
   "nbconvert_exporter": "python",
   "pygments_lexer": "ipython2",
   "version": "2.7.13"
  }
 },
 "nbformat": 4,
 "nbformat_minor": 2
}
